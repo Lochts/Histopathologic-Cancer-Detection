{
 "cells": [
  {
   "cell_type": "code",
   "execution_count": 1,
   "id": "b954f639",
   "metadata": {
    "_cell_guid": "b1076dfc-b9ad-4769-8c92-a6c4dae69d19",
    "_uuid": "8f2839f25d086af736a60e9eeb907d3b93b6e0e5",
    "execution": {
     "iopub.execute_input": "2022-10-08T04:31:10.832913Z",
     "iopub.status.busy": "2022-10-08T04:31:10.832535Z",
     "iopub.status.idle": "2022-10-08T04:31:21.388470Z",
     "shell.execute_reply": "2022-10-08T04:31:21.386787Z"
    },
    "papermill": {
     "duration": 10.567095,
     "end_time": "2022-10-08T04:31:21.391091",
     "exception": false,
     "start_time": "2022-10-08T04:31:10.823996",
     "status": "completed"
    },
    "tags": []
   },
   "outputs": [],
   "source": [
    "#general libraries \n",
    "import numpy as np \n",
    "import pandas as pd \n",
    "import os\n",
    "import random\n",
    "from sklearn.utils import shuffle\n",
    "import shutil\n",
    "\n",
    "#visualizations\n",
    "import matplotlib.pyplot as plt\n",
    "import matplotlib.image as mpimg\n",
    "import seaborn as sns\n",
    "import plotly.express as px\n",
    "import matplotlib.patches as patches\n",
    "\n",
    "# work with images\n",
    "from skimage.transform import rotate\n",
    "from skimage import io\n",
    "import cv2 as cv\n",
    "\n",
    "# model development\n",
    "from sklearn.model_selection import train_test_split\n",
    "import tensorflow as tf\n",
    "from tensorflow.keras.preprocessing.image import ImageDataGenerator\n",
    "from tensorflow.keras.layers import RandomFlip, RandomZoom, RandomRotation\n",
    "from tensorflow.keras.layers import Conv2D, MaxPooling2D, AveragePooling2D\n",
    "from tensorflow.keras.layers import Dense, Flatten, Dropout, Activation\n",
    "from tensorflow.keras.models import Sequential\n",
    "from tensorflow.keras.layers import BatchNormalization\n",
    "from tensorflow.keras.optimizers import Adam"
   ]
  },
  {
   "cell_type": "code",
   "execution_count": 2,
   "id": "7a8b757c",
   "metadata": {
    "execution": {
     "iopub.execute_input": "2022-10-08T04:31:21.405359Z",
     "iopub.status.busy": "2022-10-08T04:31:21.404606Z",
     "iopub.status.idle": "2022-10-08T04:31:22.062910Z",
     "shell.execute_reply": "2022-10-08T04:31:22.061821Z"
    },
    "papermill": {
     "duration": 0.668194,
     "end_time": "2022-10-08T04:31:22.065553",
     "exception": false,
     "start_time": "2022-10-08T04:31:21.397359",
     "status": "completed"
    },
    "tags": []
   },
   "outputs": [],
   "source": [
    "train = pd.read_csv('../input/histopathologic-cancer-detection/train_labels.csv')\n",
    "to_pred = pd.read_csv('../input/histopathologic-cancer-detection/sample_submission.csv')"
   ]
  },
  {
   "cell_type": "code",
   "execution_count": 3,
   "id": "42bb858d",
   "metadata": {
    "execution": {
     "iopub.execute_input": "2022-10-08T04:31:22.078592Z",
     "iopub.status.busy": "2022-10-08T04:31:22.078250Z",
     "iopub.status.idle": "2022-10-08T04:31:22.124215Z",
     "shell.execute_reply": "2022-10-08T04:31:22.123046Z"
    },
    "papermill": {
     "duration": 0.055071,
     "end_time": "2022-10-08T04:31:22.126425",
     "exception": false,
     "start_time": "2022-10-08T04:31:22.071354",
     "status": "completed"
    },
    "tags": []
   },
   "outputs": [
    {
     "data": {
      "text/html": [
       "<div>\n",
       "<style scoped>\n",
       "    .dataframe tbody tr th:only-of-type {\n",
       "        vertical-align: middle;\n",
       "    }\n",
       "\n",
       "    .dataframe tbody tr th {\n",
       "        vertical-align: top;\n",
       "    }\n",
       "\n",
       "    .dataframe thead th {\n",
       "        text-align: right;\n",
       "    }\n",
       "</style>\n",
       "<table border=\"1\" class=\"dataframe\">\n",
       "  <thead>\n",
       "    <tr style=\"text-align: right;\">\n",
       "      <th></th>\n",
       "      <th>label</th>\n",
       "    </tr>\n",
       "  </thead>\n",
       "  <tbody>\n",
       "    <tr>\n",
       "      <th>count</th>\n",
       "      <td>220025.000000</td>\n",
       "    </tr>\n",
       "    <tr>\n",
       "      <th>mean</th>\n",
       "      <td>0.405031</td>\n",
       "    </tr>\n",
       "    <tr>\n",
       "      <th>std</th>\n",
       "      <td>0.490899</td>\n",
       "    </tr>\n",
       "    <tr>\n",
       "      <th>min</th>\n",
       "      <td>0.000000</td>\n",
       "    </tr>\n",
       "    <tr>\n",
       "      <th>25%</th>\n",
       "      <td>0.000000</td>\n",
       "    </tr>\n",
       "    <tr>\n",
       "      <th>50%</th>\n",
       "      <td>0.000000</td>\n",
       "    </tr>\n",
       "    <tr>\n",
       "      <th>75%</th>\n",
       "      <td>1.000000</td>\n",
       "    </tr>\n",
       "    <tr>\n",
       "      <th>max</th>\n",
       "      <td>1.000000</td>\n",
       "    </tr>\n",
       "  </tbody>\n",
       "</table>\n",
       "</div>"
      ],
      "text/plain": [
       "               label\n",
       "count  220025.000000\n",
       "mean        0.405031\n",
       "std         0.490899\n",
       "min         0.000000\n",
       "25%         0.000000\n",
       "50%         0.000000\n",
       "75%         1.000000\n",
       "max         1.000000"
      ]
     },
     "execution_count": 3,
     "metadata": {},
     "output_type": "execute_result"
    }
   ],
   "source": [
    "train.describe()"
   ]
  },
  {
   "cell_type": "code",
   "execution_count": 4,
   "id": "baf1fb6c",
   "metadata": {
    "execution": {
     "iopub.execute_input": "2022-10-08T04:31:22.139450Z",
     "iopub.status.busy": "2022-10-08T04:31:22.139055Z",
     "iopub.status.idle": "2022-10-08T04:31:22.147759Z",
     "shell.execute_reply": "2022-10-08T04:31:22.146602Z"
    },
    "papermill": {
     "duration": 0.018223,
     "end_time": "2022-10-08T04:31:22.150504",
     "exception": false,
     "start_time": "2022-10-08T04:31:22.132281",
     "status": "completed"
    },
    "tags": []
   },
   "outputs": [
    {
     "data": {
      "text/html": [
       "<div>\n",
       "<style scoped>\n",
       "    .dataframe tbody tr th:only-of-type {\n",
       "        vertical-align: middle;\n",
       "    }\n",
       "\n",
       "    .dataframe tbody tr th {\n",
       "        vertical-align: top;\n",
       "    }\n",
       "\n",
       "    .dataframe thead th {\n",
       "        text-align: right;\n",
       "    }\n",
       "</style>\n",
       "<table border=\"1\" class=\"dataframe\">\n",
       "  <thead>\n",
       "    <tr style=\"text-align: right;\">\n",
       "      <th></th>\n",
       "      <th>id</th>\n",
       "      <th>label</th>\n",
       "    </tr>\n",
       "  </thead>\n",
       "  <tbody>\n",
       "    <tr>\n",
       "      <th>0</th>\n",
       "      <td>f38a6374c348f90b587e046aac6079959adf3835</td>\n",
       "      <td>0</td>\n",
       "    </tr>\n",
       "    <tr>\n",
       "      <th>1</th>\n",
       "      <td>c18f2d887b7ae4f6742ee445113fa1aef383ed77</td>\n",
       "      <td>1</td>\n",
       "    </tr>\n",
       "    <tr>\n",
       "      <th>2</th>\n",
       "      <td>755db6279dae599ebb4d39a9123cce439965282d</td>\n",
       "      <td>0</td>\n",
       "    </tr>\n",
       "    <tr>\n",
       "      <th>3</th>\n",
       "      <td>bc3f0c64fb968ff4a8bd33af6971ecae77c75e08</td>\n",
       "      <td>0</td>\n",
       "    </tr>\n",
       "    <tr>\n",
       "      <th>4</th>\n",
       "      <td>068aba587a4950175d04c680d38943fd488d6a9d</td>\n",
       "      <td>0</td>\n",
       "    </tr>\n",
       "  </tbody>\n",
       "</table>\n",
       "</div>"
      ],
      "text/plain": [
       "                                         id  label\n",
       "0  f38a6374c348f90b587e046aac6079959adf3835      0\n",
       "1  c18f2d887b7ae4f6742ee445113fa1aef383ed77      1\n",
       "2  755db6279dae599ebb4d39a9123cce439965282d      0\n",
       "3  bc3f0c64fb968ff4a8bd33af6971ecae77c75e08      0\n",
       "4  068aba587a4950175d04c680d38943fd488d6a9d      0"
      ]
     },
     "execution_count": 4,
     "metadata": {},
     "output_type": "execute_result"
    }
   ],
   "source": [
    "train.head()"
   ]
  },
  {
   "cell_type": "code",
   "execution_count": 5,
   "id": "b02d04af",
   "metadata": {
    "execution": {
     "iopub.execute_input": "2022-10-08T04:31:22.163856Z",
     "iopub.status.busy": "2022-10-08T04:31:22.163537Z",
     "iopub.status.idle": "2022-10-08T04:31:22.287441Z",
     "shell.execute_reply": "2022-10-08T04:31:22.286275Z"
    },
    "papermill": {
     "duration": 0.133187,
     "end_time": "2022-10-08T04:31:22.289783",
     "exception": false,
     "start_time": "2022-10-08T04:31:22.156596",
     "status": "completed"
    },
    "tags": []
   },
   "outputs": [
    {
     "data": {
      "text/plain": [
       "<AxesSubplot:ylabel='label'>"
      ]
     },
     "execution_count": 5,
     "metadata": {},
     "output_type": "execute_result"
    },
    {
     "data": {
      "image/png": "[encoded data removed]",
      "text/plain": [
       "<Figure size 432x288 with 1 Axes>"
      ]
     },
     "metadata": {},
     "output_type": "display_data"
    }
   ],
   "source": [
    "train['label'].value_counts().plot(kind='pie')"
   ]
  },
  {
   "cell_type": "markdown",
   "id": "be266269",
   "metadata": {
    "papermill": {
     "duration": 0.005936,
     "end_time": "2022-10-08T04:31:22.302539",
     "exception": false,
     "start_time": "2022-10-08T04:31:22.296603",
     "status": "completed"
    },
    "tags": []
   },
   "source": [
    "#### Trying to see a train pic"
   ]
  },
  {
   "cell_type": "code",
   "execution_count": 6,
   "id": "05ba9a07",
   "metadata": {
    "execution": {
     "iopub.execute_input": "2022-10-08T04:31:22.316844Z",
     "iopub.status.busy": "2022-10-08T04:31:22.315860Z",
     "iopub.status.idle": "2022-10-08T04:31:22.460919Z",
     "shell.execute_reply": "2022-10-08T04:31:22.460108Z"
    },
    "papermill": {
     "duration": 0.154158,
     "end_time": "2022-10-08T04:31:22.462775",
     "exception": false,
     "start_time": "2022-10-08T04:31:22.308617",
     "status": "completed"
    },
    "tags": []
   },
   "outputs": [
    {
     "data": {
      "image/png": "[encoded data removed]",
      "text/plain": [
       "<Figure size 432x288 with 1 Axes>"
      ]
     },
     "metadata": {
      "needs_background": "light"
     },
     "output_type": "display_data"
    }
   ],
   "source": [
    "img = mpimg.imread('../input/histopathologic-cancer-detection/train/'+ train['id'][0] +'.tif')\n",
    "imgplot = plt.imshow(img)"
   ]
  },
  {
   "cell_type": "code",
   "execution_count": 7,
   "id": "5393b660",
   "metadata": {
    "execution": {
     "iopub.execute_input": "2022-10-08T04:31:22.477725Z",
     "iopub.status.busy": "2022-10-08T04:31:22.477424Z",
     "iopub.status.idle": "2022-10-08T04:31:22.690224Z",
     "shell.execute_reply": "2022-10-08T04:31:22.689517Z"
    },
    "papermill": {
     "duration": 0.222607,
     "end_time": "2022-10-08T04:31:22.692241",
     "exception": false,
     "start_time": "2022-10-08T04:31:22.469634",
     "status": "completed"
    },
    "tags": []
   },
   "outputs": [],
   "source": [
    "df = train.copy()\n",
    "df['id'] = df['id'] + '.tif'\n",
    "df['label'] = df['label'].astype(str)\n",
    "train_df, test_df = train_test_split(df, test_size=0.25, \n",
    "                                      random_state=777)"
   ]
  },
  {
   "cell_type": "code",
   "execution_count": 8,
   "id": "629070a5",
   "metadata": {
    "execution": {
     "iopub.execute_input": "2022-10-08T04:31:22.709674Z",
     "iopub.status.busy": "2022-10-08T04:31:22.708955Z",
     "iopub.status.idle": "2022-10-08T04:31:22.718681Z",
     "shell.execute_reply": "2022-10-08T04:31:22.717301Z"
    },
    "papermill": {
     "duration": 0.021351,
     "end_time": "2022-10-08T04:31:22.721112",
     "exception": false,
     "start_time": "2022-10-08T04:31:22.699761",
     "status": "completed"
    },
    "tags": []
   },
   "outputs": [
    {
     "data": {
      "text/html": [
       "<div>\n",
       "<style scoped>\n",
       "    .dataframe tbody tr th:only-of-type {\n",
       "        vertical-align: middle;\n",
       "    }\n",
       "\n",
       "    .dataframe tbody tr th {\n",
       "        vertical-align: top;\n",
       "    }\n",
       "\n",
       "    .dataframe thead th {\n",
       "        text-align: right;\n",
       "    }\n",
       "</style>\n",
       "<table border=\"1\" class=\"dataframe\">\n",
       "  <thead>\n",
       "    <tr style=\"text-align: right;\">\n",
       "      <th></th>\n",
       "      <th>id</th>\n",
       "      <th>label</th>\n",
       "    </tr>\n",
       "  </thead>\n",
       "  <tbody>\n",
       "    <tr>\n",
       "      <th>0</th>\n",
       "      <td>f38a6374c348f90b587e046aac6079959adf3835.tif</td>\n",
       "      <td>0</td>\n",
       "    </tr>\n",
       "  </tbody>\n",
       "</table>\n",
       "</div>"
      ],
      "text/plain": [
       "                                             id label\n",
       "0  f38a6374c348f90b587e046aac6079959adf3835.tif     0"
      ]
     },
     "execution_count": 8,
     "metadata": {},
     "output_type": "execute_result"
    }
   ],
   "source": [
    "df.head(1)"
   ]
  },
  {
   "cell_type": "code",
   "execution_count": 9,
   "id": "b0298f82",
   "metadata": {
    "execution": {
     "iopub.execute_input": "2022-10-08T04:31:22.737328Z",
     "iopub.status.busy": "2022-10-08T04:31:22.736969Z",
     "iopub.status.idle": "2022-10-08T04:31:22.742909Z",
     "shell.execute_reply": "2022-10-08T04:31:22.741558Z"
    },
    "papermill": {
     "duration": 0.016765,
     "end_time": "2022-10-08T04:31:22.745224",
     "exception": false,
     "start_time": "2022-10-08T04:31:22.728459",
     "status": "completed"
    },
    "tags": []
   },
   "outputs": [
    {
     "data": {
      "text/plain": [
       "(165018, 2)"
      ]
     },
     "execution_count": 9,
     "metadata": {},
     "output_type": "execute_result"
    }
   ],
   "source": [
    "train_df.shape"
   ]
  },
  {
   "cell_type": "code",
   "execution_count": 10,
   "id": "8b967955",
   "metadata": {
    "execution": {
     "iopub.execute_input": "2022-10-08T04:31:22.761546Z",
     "iopub.status.busy": "2022-10-08T04:31:22.761136Z",
     "iopub.status.idle": "2022-10-08T04:31:22.766919Z",
     "shell.execute_reply": "2022-10-08T04:31:22.765416Z"
    },
    "papermill": {
     "duration": 0.016782,
     "end_time": "2022-10-08T04:31:22.769442",
     "exception": false,
     "start_time": "2022-10-08T04:31:22.752660",
     "status": "completed"
    },
    "tags": []
   },
   "outputs": [
    {
     "data": {
      "text/plain": [
       "(55007, 2)"
      ]
     },
     "execution_count": 10,
     "metadata": {},
     "output_type": "execute_result"
    }
   ],
   "source": [
    "test_df.shape"
   ]
  },
  {
   "cell_type": "code",
   "execution_count": 11,
   "id": "1cec9067",
   "metadata": {
    "execution": {
     "iopub.execute_input": "2022-10-08T04:31:22.785951Z",
     "iopub.status.busy": "2022-10-08T04:31:22.785616Z",
     "iopub.status.idle": "2022-10-08T04:40:40.585486Z",
     "shell.execute_reply": "2022-10-08T04:40:40.584562Z"
    },
    "papermill": {
     "duration": 557.816437,
     "end_time": "2022-10-08T04:40:40.593309",
     "exception": false,
     "start_time": "2022-10-08T04:31:22.776872",
     "status": "completed"
    },
    "tags": []
   },
   "outputs": [
    {
     "name": "stdout",
     "output_type": "stream",
     "text": [
      "Found 165018 validated image filenames belonging to 2 classes.\n"
     ]
    }
   ],
   "source": [
    "train_datagen = ImageDataGenerator(rescale=1/255)\n",
    "train_generator = train_datagen.flow_from_dataframe(\n",
    "    dataframe=train_df,directory=\"../input/histopathologic-cancer-detection/train/\",\n",
    "    x_col=\"id\",\n",
    "    y_col=\"label\",\n",
    "    batch_size=32,\n",
    "    seed=777,\n",
    "    shuffle=True, \n",
    "    class_mode=\"binary\",\n",
    "    target_size=(96,96))\n"
   ]
  },
  {
   "cell_type": "code",
   "execution_count": 12,
   "id": "25d89dfd",
   "metadata": {
    "execution": {
     "iopub.execute_input": "2022-10-08T04:40:40.609219Z",
     "iopub.status.busy": "2022-10-08T04:40:40.608885Z",
     "iopub.status.idle": "2022-10-08T04:43:33.430493Z",
     "shell.execute_reply": "2022-10-08T04:43:33.429555Z"
    },
    "papermill": {
     "duration": 172.838602,
     "end_time": "2022-10-08T04:43:33.438954",
     "exception": false,
     "start_time": "2022-10-08T04:40:40.600352",
     "status": "completed"
    },
    "tags": []
   },
   "outputs": [
    {
     "name": "stdout",
     "output_type": "stream",
     "text": [
      "Found 55007 validated image filenames belonging to 2 classes.\n"
     ]
    }
   ],
   "source": [
    "\n",
    "test_generator = train_datagen.flow_from_dataframe(\n",
    "    dataframe=test_df,directory=\"../input/histopathologic-cancer-detection/train/\",\n",
    "    x_col=\"id\",\n",
    "    y_col=\"label\",\n",
    "    batch_size=32,\n",
    "    seed=777,\n",
    "    shuffle=True,\n",
    "    class_mode=\"binary\",\n",
    "    target_size=(96,96))"
   ]
  },
  {
   "cell_type": "code",
   "execution_count": 13,
   "id": "1d43dd84",
   "metadata": {
    "execution": {
     "iopub.execute_input": "2022-10-08T04:43:33.456648Z",
     "iopub.status.busy": "2022-10-08T04:43:33.456130Z",
     "iopub.status.idle": "2022-10-08T04:43:33.461339Z",
     "shell.execute_reply": "2022-10-08T04:43:33.460298Z"
    },
    "papermill": {
     "duration": 0.016906,
     "end_time": "2022-10-08T04:43:33.463681",
     "exception": false,
     "start_time": "2022-10-08T04:43:33.446775",
     "status": "completed"
    },
    "tags": []
   },
   "outputs": [
    {
     "data": {
      "text/plain": [
       "<keras.preprocessing.image.DataFrameIterator at 0x7f56405aab10>"
      ]
     },
     "execution_count": 13,
     "metadata": {},
     "output_type": "execute_result"
    }
   ],
   "source": [
    "train_generator"
   ]
  },
  {
   "cell_type": "markdown",
   "id": "0ce2a189",
   "metadata": {
    "papermill": {
     "duration": 0.006915,
     "end_time": "2022-10-08T04:43:33.478457",
     "exception": false,
     "start_time": "2022-10-08T04:43:33.471542",
     "status": "completed"
    },
    "tags": []
   },
   "source": [
    "## Model structure (3 set of 2 convolutional layers)\n",
    "\n",
    "#### **Input** -> (**Conv2D** x2 -> **MaxPool2D** -> **Dropout**) x3 -> **Flatten** -> **Dense** -> **Dropout** -> **Output**\n",
    "\n",
    "\n",
    "\n"
   ]
  },
  {
   "cell_type": "code",
   "execution_count": 14,
   "id": "21902b20",
   "metadata": {
    "execution": {
     "iopub.execute_input": "2022-10-08T04:43:33.495249Z",
     "iopub.status.busy": "2022-10-08T04:43:33.494718Z",
     "iopub.status.idle": "2022-10-08T04:43:33.789980Z",
     "shell.execute_reply": "2022-10-08T04:43:33.788600Z"
    },
    "papermill": {
     "duration": 0.306735,
     "end_time": "2022-10-08T04:43:33.792308",
     "exception": false,
     "start_time": "2022-10-08T04:43:33.485573",
     "status": "completed"
    },
    "tags": []
   },
   "outputs": [
    {
     "name": "stderr",
     "output_type": "stream",
     "text": [
      "2022-10-08 04:43:33.539467: I tensorflow/core/common_runtime/process_util.cc:146] Creating new thread pool with default inter op setting: 2. Tune using inter_op_parallelism_threads for best performance.\n"
     ]
    }
   ],
   "source": [
    "model = Sequential()\n",
    "\n",
    "Activation_fun = 'relu'\n",
    "\n",
    "## -- set1  conv2d  filters = 32 , kernel size = 3*3\n",
    "model.add(Conv2D(32, (3, 3), padding='same',input_shape=(96,96,3)))\n",
    "model.add(Activation(Activation_fun))\n",
    "model.add(Conv2D(32, (3, 3)))\n",
    "model.add(Activation(Activation_fun))\n",
    "\n",
    "model.add(MaxPooling2D(pool_size=(2, 2)))\n",
    "model.add(BatchNormalization())\n",
    "\n",
    "## -- set  conv2d  filters = 64 , kernel size = 3*3\n",
    "model.add(Conv2D(64, (3, 3)))\n",
    "model.add(Activation(Activation_fun))\n",
    "model.add(Conv2D(64, (3, 3)))\n",
    "model.add(Activation(Activation_fun))\n",
    "\n",
    "model.add(MaxPooling2D(pool_size=(2, 2)))\n",
    "model.add(BatchNormalization())\n",
    "\n",
    "\n",
    "## -- set3  conv2d  filters = 128 , kernel size = 3*3\n",
    "model.add(Conv2D(128, (3, 3)))\n",
    "model.add(Activation(Activation_fun))\n",
    "model.add(Conv2D(128, (3, 3)))\n",
    "model.add(Activation(Activation_fun))\n",
    "\n",
    "model.add(MaxPooling2D(pool_size=(2, 2)))\n",
    "model.add(BatchNormalization())\n",
    "\n",
    "\n",
    "## Flatten\n",
    "model.add(Flatten())\n",
    "## Dense\n",
    "model.add(Dense(256, use_bias=False))\n",
    "model.add(BatchNormalization())\n",
    "model.add(Activation(\"relu\"))\n",
    "##Dropout\n",
    "model.add(Dropout(0.5))\n",
    "model.add(Dense(1, activation = \"sigmoid\"))\n"
   ]
  },
  {
   "cell_type": "code",
   "execution_count": 15,
   "id": "e0eed214",
   "metadata": {
    "execution": {
     "iopub.execute_input": "2022-10-08T04:43:33.809093Z",
     "iopub.status.busy": "2022-10-08T04:43:33.808784Z",
     "iopub.status.idle": "2022-10-08T04:43:33.817204Z",
     "shell.execute_reply": "2022-10-08T04:43:33.815421Z"
    },
    "papermill": {
     "duration": 0.020015,
     "end_time": "2022-10-08T04:43:33.820102",
     "exception": false,
     "start_time": "2022-10-08T04:43:33.800087",
     "status": "completed"
    },
    "tags": []
   },
   "outputs": [
    {
     "name": "stdout",
     "output_type": "stream",
     "text": [
      "Model: \"sequential\"\n",
      "_________________________________________________________________\n",
      "Layer (type)                 Output Shape              Param #   \n",
      "=================================================================\n",
      "conv2d (Conv2D)              (None, 96, 96, 32)        896       \n",
      "_________________________________________________________________\n",
      "activation (Activation)      (None, 96, 96, 32)        0         \n",
      "_________________________________________________________________\n",
      "conv2d_1 (Conv2D)            (None, 94, 94, 32)        9248      \n",
      "_________________________________________________________________\n",
      "activation_1 (Activation)    (None, 94, 94, 32)        0         \n",
      "_________________________________________________________________\n",
      "max_pooling2d (MaxPooling2D) (None, 47, 47, 32)        0         \n",
      "_________________________________________________________________\n",
      "batch_normalization (BatchNo (None, 47, 47, 32)        128       \n",
      "_________________________________________________________________\n",
      "conv2d_2 (Conv2D)            (None, 45, 45, 64)        18496     \n",
      "_________________________________________________________________\n",
      "activation_2 (Activation)    (None, 45, 45, 64)        0         \n",
      "_________________________________________________________________\n",
      "conv2d_3 (Conv2D)            (None, 43, 43, 64)        36928     \n",
      "_________________________________________________________________\n",
      "activation_3 (Activation)    (None, 43, 43, 64)        0         \n",
      "_________________________________________________________________\n",
      "max_pooling2d_1 (MaxPooling2 (None, 21, 21, 64)        0         \n",
      "_________________________________________________________________\n",
      "batch_normalization_1 (Batch (None, 21, 21, 64)        256       \n",
      "_________________________________________________________________\n",
      "conv2d_4 (Conv2D)            (None, 19, 19, 128)       73856     \n",
      "_________________________________________________________________\n",
      "activation_4 (Activation)    (None, 19, 19, 128)       0         \n",
      "_________________________________________________________________\n",
      "conv2d_5 (Conv2D)            (None, 17, 17, 128)       147584    \n",
      "_________________________________________________________________\n",
      "activation_5 (Activation)    (None, 17, 17, 128)       0         \n",
      "_________________________________________________________________\n",
      "max_pooling2d_2 (MaxPooling2 (None, 8, 8, 128)         0         \n",
      "_________________________________________________________________\n",
      "batch_normalization_2 (Batch (None, 8, 8, 128)         512       \n",
      "_________________________________________________________________\n",
      "flatten (Flatten)            (None, 8192)              0         \n",
      "_________________________________________________________________\n",
      "dense (Dense)                (None, 256)               2097152   \n",
      "_________________________________________________________________\n",
      "batch_normalization_3 (Batch (None, 256)               1024      \n",
      "_________________________________________________________________\n",
      "activation_6 (Activation)    (None, 256)               0         \n",
      "_________________________________________________________________\n",
      "dropout (Dropout)            (None, 256)               0         \n",
      "_________________________________________________________________\n",
      "dense_1 (Dense)              (None, 1)                 257       \n",
      "=================================================================\n",
      "Total params: 2,386,337\n",
      "Trainable params: 2,385,377\n",
      "Non-trainable params: 960\n",
      "_________________________________________________________________\n"
     ]
    }
   ],
   "source": [
    "model.summary()"
   ]
  },
  {
   "cell_type": "code",
   "execution_count": 16,
   "id": "b0ca5b5a",
   "metadata": {
    "execution": {
     "iopub.execute_input": "2022-10-08T04:43:33.838531Z",
     "iopub.status.busy": "2022-10-08T04:43:33.838213Z",
     "iopub.status.idle": "2022-10-08T04:43:33.853377Z",
     "shell.execute_reply": "2022-10-08T04:43:33.852040Z"
    },
    "papermill": {
     "duration": 0.026617,
     "end_time": "2022-10-08T04:43:33.855786",
     "exception": false,
     "start_time": "2022-10-08T04:43:33.829169",
     "status": "completed"
    },
    "tags": []
   },
   "outputs": [],
   "source": [
    "learningrate = 0.0001\n",
    "model.compile(loss='binary_crossentropy', optimizer=Adam(learning_rate = learningrate), metrics=['accuracy'])"
   ]
  },
  {
   "cell_type": "code",
   "execution_count": 17,
   "id": "49eb88e3",
   "metadata": {
    "execution": {
     "iopub.execute_input": "2022-10-08T04:43:33.873402Z",
     "iopub.status.busy": "2022-10-08T04:43:33.873049Z",
     "iopub.status.idle": "2022-10-08T08:48:22.220546Z",
     "shell.execute_reply": "2022-10-08T08:48:22.218935Z"
    },
    "papermill": {
     "duration": 14688.359244,
     "end_time": "2022-10-08T08:48:22.223124",
     "exception": false,
     "start_time": "2022-10-08T04:43:33.863880",
     "status": "completed"
    },
    "tags": []
   },
   "outputs": [
    {
     "name": "stderr",
     "output_type": "stream",
     "text": [
      "2022-10-08 04:43:34.236030: I tensorflow/compiler/mlir/mlir_graph_optimization_pass.cc:185] None of the MLIR Optimization Passes are enabled (registered 2)\n"
     ]
    },
    {
     "name": "stdout",
     "output_type": "stream",
     "text": [
      "Epoch 1/10\n",
      "2000/2000 [==============================] - 1611s 805ms/step - loss: 0.4236 - accuracy: 0.8175 - val_loss: 0.3705 - val_accuracy: 0.8459\n",
      "Epoch 2/10\n",
      "2000/2000 [==============================] - 1404s 702ms/step - loss: 0.3493 - accuracy: 0.8556 - val_loss: 0.3742 - val_accuracy: 0.8493\n",
      "Epoch 3/10\n",
      "2000/2000 [==============================] - 1427s 713ms/step - loss: 0.3115 - accuracy: 0.8712 - val_loss: 0.3567 - val_accuracy: 0.8461\n",
      "Epoch 4/10\n",
      "2000/2000 [==============================] - 1422s 711ms/step - loss: 0.2797 - accuracy: 0.8865 - val_loss: 0.3723 - val_accuracy: 0.8443\n",
      "Epoch 5/10\n",
      "2000/2000 [==============================] - 1443s 722ms/step - loss: 0.2536 - accuracy: 0.8985 - val_loss: 0.4037 - val_accuracy: 0.8415\n",
      "Epoch 6/10\n",
      "2000/2000 [==============================] - 1451s 725ms/step - loss: 0.2395 - accuracy: 0.9052 - val_loss: 0.3499 - val_accuracy: 0.8461\n",
      "Epoch 7/10\n",
      "2000/2000 [==============================] - 1444s 722ms/step - loss: 0.2217 - accuracy: 0.9148 - val_loss: 0.2876 - val_accuracy: 0.8846\n",
      "Epoch 8/10\n",
      "2000/2000 [==============================] - 1435s 717ms/step - loss: 0.2081 - accuracy: 0.9193 - val_loss: 0.4260 - val_accuracy: 0.8691\n",
      "Epoch 9/10\n",
      "2000/2000 [==============================] - 1439s 720ms/step - loss: 0.1923 - accuracy: 0.9263 - val_loss: 0.2491 - val_accuracy: 0.9029\n",
      "Epoch 10/10\n",
      "2000/2000 [==============================] - 1447s 724ms/step - loss: 0.1793 - accuracy: 0.9318 - val_loss: 0.2503 - val_accuracy: 0.9039\n"
     ]
    },
    {
     "data": {
      "text/plain": [
       "<keras.callbacks.History at 0x7f56405ab690>"
      ]
     },
     "execution_count": 17,
     "metadata": {},
     "output_type": "execute_result"
    }
   ],
   "source": [
    "model.fit(x=train_generator, \n",
    "          batch_size=32, \n",
    "          epochs=10, \n",
    "          verbose=1, \n",
    "          steps_per_epoch= 2000,\n",
    "          validation_freq = 1,\n",
    "          validation_data=test_generator)"
   ]
  },
  {
   "cell_type": "code",
   "execution_count": 18,
   "id": "ed9e68f1",
   "metadata": {
    "execution": {
     "iopub.execute_input": "2022-10-08T08:48:24.475054Z",
     "iopub.status.busy": "2022-10-08T08:48:24.473733Z",
     "iopub.status.idle": "2022-10-08T08:48:24.697037Z",
     "shell.execute_reply": "2022-10-08T08:48:24.696056Z"
    },
    "papermill": {
     "duration": 1.295956,
     "end_time": "2022-10-08T08:48:24.699631",
     "exception": false,
     "start_time": "2022-10-08T08:48:23.403675",
     "status": "completed"
    },
    "tags": []
   },
   "outputs": [
    {
     "name": "stdout",
     "output_type": "stream",
     "text": [
      "{'loss': [0.4235939085483551, 0.34929609298706055, 0.3114514946937561, 0.2796822786331177, 0.2536362409591675, 0.23953524231910706, 0.2217234969139099, 0.2080848217010498, 0.19231361150741577, 0.17931193113327026], 'accuracy': [0.8174999952316284, 0.8555625081062317, 0.8712031245231628, 0.8864737153053284, 0.8984687328338623, 0.9051562547683716, 0.9147576093673706, 0.919336199760437, 0.9263125061988831, 0.9318217039108276], 'val_loss': [0.3705202341079712, 0.37422630190849304, 0.3566555380821228, 0.37234145402908325, 0.403735488653183, 0.3499179184436798, 0.28759127855300903, 0.4259510040283203, 0.2491438239812851, 0.2503409683704376], 'val_accuracy': [0.8459287285804749, 0.8492737412452698, 0.8460923433303833, 0.8443288803100586, 0.8415292501449585, 0.8460741639137268, 0.8845965266227722, 0.8690711855888367, 0.9028668999671936, 0.9038667678833008]}\n"
     ]
    },
    {
     "data": {
      "image/png": "[encoded data removed]",
      "text/plain": [
       "<Figure size 432x288 with 1 Axes>"
      ]
     },
     "metadata": {
      "needs_background": "light"
     },
     "output_type": "display_data"
    }
   ],
   "source": [
    "print(model.history.history)\n",
    "plt.plot(model.history.history['accuracy'])\n",
    "plt.plot(model.history.history['val_accuracy'])\n",
    "plt.title('model loss')\n",
    "plt.ylabel('accuracy')\n",
    "plt.xlabel('epoch')\n",
    "plt.legend(['train', 'val'], loc='upper left')\n",
    "plt.show()"
   ]
  },
  {
   "cell_type": "code",
   "execution_count": 19,
   "id": "6d0521eb",
   "metadata": {
    "execution": {
     "iopub.execute_input": "2022-10-08T08:48:27.029423Z",
     "iopub.status.busy": "2022-10-08T08:48:27.028883Z",
     "iopub.status.idle": "2022-10-08T08:48:27.089890Z",
     "shell.execute_reply": "2022-10-08T08:48:27.088808Z"
    },
    "papermill": {
     "duration": 1.145458,
     "end_time": "2022-10-08T08:48:27.092137",
     "exception": false,
     "start_time": "2022-10-08T08:48:25.946679",
     "status": "completed"
    },
    "tags": []
   },
   "outputs": [],
   "source": [
    "df2 = to_pred.copy()\n",
    "df2['id'] = df2['id'] + '.tif'\n",
    "df2['label'] = df['label'].astype(str)\n"
   ]
  },
  {
   "cell_type": "code",
   "execution_count": 20,
   "id": "9f46e913",
   "metadata": {
    "execution": {
     "iopub.execute_input": "2022-10-08T08:48:29.428494Z",
     "iopub.status.busy": "2022-10-08T08:48:29.428134Z",
     "iopub.status.idle": "2022-10-08T08:51:47.018924Z",
     "shell.execute_reply": "2022-10-08T08:51:47.017824Z"
    },
    "papermill": {
     "duration": 199.928257,
     "end_time": "2022-10-08T08:51:48.218523",
     "exception": false,
     "start_time": "2022-10-08T08:48:28.290266",
     "status": "completed"
    },
    "tags": []
   },
   "outputs": [
    {
     "name": "stdout",
     "output_type": "stream",
     "text": [
      "Found 57458 validated image filenames belonging to 2 classes.\n"
     ]
    }
   ],
   "source": [
    "to_pred_gen = train_datagen.flow_from_dataframe(\n",
    "    dataframe=df2,\n",
    "    directory=\"../input/histopathologic-cancer-detection/test/\",\n",
    "    x_col=\"id\",\n",
    "    y_col=\"label\",\n",
    "    class_mode=\"binary\",\n",
    "    batch_size=1,\n",
    "    shuffle=False,\n",
    "    target_size=(96,96))"
   ]
  },
  {
   "cell_type": "code",
   "execution_count": 21,
   "id": "7928e07d",
   "metadata": {
    "execution": {
     "iopub.execute_input": "2022-10-08T08:51:50.408934Z",
     "iopub.status.busy": "2022-10-08T08:51:50.407585Z",
     "iopub.status.idle": "2022-10-08T09:06:25.215114Z",
     "shell.execute_reply": "2022-10-08T09:06:25.213646Z"
    },
    "papermill": {
     "duration": 875.89131,
     "end_time": "2022-10-08T09:06:25.217691",
     "exception": false,
     "start_time": "2022-10-08T08:51:49.326381",
     "status": "completed"
    },
    "tags": []
   },
   "outputs": [
    {
     "name": "stdout",
     "output_type": "stream",
     "text": [
      "57458/57458 [==============================] - 875s 15ms/step\n"
     ]
    }
   ],
   "source": [
    "predictions = model.predict(to_pred_gen, verbose=1)\n"
   ]
  },
  {
   "cell_type": "code",
   "execution_count": 22,
   "id": "aa58f7c3",
   "metadata": {
    "execution": {
     "iopub.execute_input": "2022-10-08T09:06:29.132995Z",
     "iopub.status.busy": "2022-10-08T09:06:29.132654Z",
     "iopub.status.idle": "2022-10-08T09:06:29.138462Z",
     "shell.execute_reply": "2022-10-08T09:06:29.137425Z"
    },
    "papermill": {
     "duration": 1.87815,
     "end_time": "2022-10-08T09:06:29.141750",
     "exception": false,
     "start_time": "2022-10-08T09:06:27.263600",
     "status": "completed"
    },
    "tags": []
   },
   "outputs": [
    {
     "name": "stdout",
     "output_type": "stream",
     "text": [
      "(57458, 1)\n"
     ]
    }
   ],
   "source": [
    "print(predictions.shape)"
   ]
  },
  {
   "cell_type": "code",
   "execution_count": 23,
   "id": "ef8b7fbd",
   "metadata": {
    "execution": {
     "iopub.execute_input": "2022-10-08T09:06:33.228144Z",
     "iopub.status.busy": "2022-10-08T09:06:33.227418Z",
     "iopub.status.idle": "2022-10-08T09:06:33.232263Z",
     "shell.execute_reply": "2022-10-08T09:06:33.231111Z"
    },
    "papermill": {
     "duration": 2.067034,
     "end_time": "2022-10-08T09:06:33.234584",
     "exception": false,
     "start_time": "2022-10-08T09:06:31.167550",
     "status": "completed"
    },
    "tags": []
   },
   "outputs": [],
   "source": [
    "p = predictions.copy()\n"
   ]
  },
  {
   "cell_type": "code",
   "execution_count": 24,
   "id": "bcbdc23b",
   "metadata": {
    "execution": {
     "iopub.execute_input": "2022-10-08T09:06:37.260390Z",
     "iopub.status.busy": "2022-10-08T09:06:37.259794Z",
     "iopub.status.idle": "2022-10-08T09:06:37.267782Z",
     "shell.execute_reply": "2022-10-08T09:06:37.266709Z"
    },
    "papermill": {
     "duration": 1.995023,
     "end_time": "2022-10-08T09:06:37.270048",
     "exception": false,
     "start_time": "2022-10-08T09:06:35.275025",
     "status": "completed"
    },
    "tags": []
   },
   "outputs": [],
   "source": [
    "df3 = to_pred.copy()\n",
    "df3.drop('label',axis = 1)\n",
    "df3['label'] = p"
   ]
  },
  {
   "cell_type": "code",
   "execution_count": 25,
   "id": "81f43f6a",
   "metadata": {
    "execution": {
     "iopub.execute_input": "2022-10-08T09:06:41.114165Z",
     "iopub.status.busy": "2022-10-08T09:06:41.113547Z",
     "iopub.status.idle": "2022-10-08T09:06:41.250117Z",
     "shell.execute_reply": "2022-10-08T09:06:41.248916Z"
    },
    "papermill": {
     "duration": 1.985061,
     "end_time": "2022-10-08T09:06:41.252500",
     "exception": false,
     "start_time": "2022-10-08T09:06:39.267439",
     "status": "completed"
    },
    "tags": []
   },
   "outputs": [],
   "source": [
    "df3.to_csv(\"submission.csv\", index = False, header = True)"
   ]
  }
 ],
 "metadata": {
  "kernelspec": {
   "display_name": "Python 3",
   "language": "python",
   "name": "python3"
  },
  "language_info": {
   "codemirror_mode": {
    "name": "ipython",
    "version": 3
   },
   "file_extension": ".py",
   "mimetype": "text/x-python",
   "name": "python",
   "nbconvert_exporter": "python",
   "pygments_lexer": "ipython3",
   "version": "3.7.12"
  },
  "papermill": {
   "default_parameters": {},
   "duration": 16544.340236,
   "end_time": "2022-10-08T09:06:46.805489",
   "environment_variables": {},
   "exception": null,
   "input_path": "__notebook__.ipynb",
   "output_path": "__notebook__.ipynb",
   "parameters": {},
   "start_time": "2022-10-08T04:31:02.465253",
   "version": "2.3.4"
  }
 },
 "nbformat": 4,
 "nbformat_minor": 5
}
